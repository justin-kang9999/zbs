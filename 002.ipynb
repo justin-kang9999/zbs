{
 "cells": [
  {
   "cell_type": "markdown",
   "metadata": {},
   "source": [
    "# 약수"
   ]
  },
  {
   "cell_type": "code",
   "execution_count": 4,
   "metadata": {},
   "outputs": [
    {
     "name": "stdout",
     "output_type": "stream",
     "text": [
      "2의 약수 : 1\n",
      "2의 약수 : 2\n"
     ]
    }
   ],
   "source": [
    "#약수 찾기\n",
    "input_number = int(input(\"0보다 큰 정수를 입력해주세요: \"))\n",
    "# 약수 찾기\n",
    "for number in range(1, input_number + 1):\n",
    "    if input_number % number == 0 :\n",
    "        print('{}의 약수 : {}'.format(input_number, number))\n",
    "        "
   ]
  },
  {
   "cell_type": "code",
   "execution_count": 6,
   "metadata": {},
   "outputs": [
    {
     "name": "stdout",
     "output_type": "stream",
     "text": [
      "2 : 소수!!\n",
      "3 : 소수!!\n",
      "4 : \t 합성수!!\n",
      "5 : 소수!!\n",
      "6 : \t 합성수!!\n",
      "7 : 소수!!\n",
      "8 : \t 합성수!!\n",
      "9 : \t 합성수!!\n",
      "10 : \t 합성수!!\n",
      "11 : 소수!!\n",
      "12 : \t 합성수!!\n",
      "13 : 소수!!\n",
      "14 : \t 합성수!!\n",
      "15 : \t 합성수!!\n"
     ]
    }
   ],
   "source": [
    "#소수 찾기\n",
    "input_number = int(input(\"0보다 큰 정수를 입력해주세요: \"))\n",
    "for number in range(2, input_number + 1):\n",
    "    flag = True\n",
    "    for n in range(2, number):\n",
    "        if number % n == 0:\n",
    "            flag = False\n",
    "            break\n",
    "    if flag:\n",
    "        print('{} : 소수!!'.format(number))\n",
    "    else:\n",
    "        print('{} : \\t 합성수!!'.format(number))\n",
    "    "
   ]
  },
  {
   "cell_type": "code",
   "execution_count": 11,
   "metadata": {},
   "outputs": [
    {
     "name": "stdout",
     "output_type": "stream",
     "text": [
      "15 까지의 소수들 : [2, 3, 5, 7, 11, 13] \n",
      "15 까지의 합성수들 : [4, 6, 8, 9, 10, 12, 14, 15]\n"
     ]
    }
   ],
   "source": [
    "#소수 찾기 리스트에다 넣어서\n",
    "input_number = int(input(\"0보다 큰 정수를 입력해주세요: \"))\n",
    "prime_n = []\n",
    "composition_n = []\n",
    "for number in range(2, input_number + 1):\n",
    "    flag = True\n",
    "    for n in range(2, number):\n",
    "        if number % n == 0:\n",
    "            flag = False\n",
    "            break\n",
    "    if flag:\n",
    "        prime_n.append(number)\n",
    "    #    print('{} : 소수!!'.format(number))\n",
    "        \n",
    "    else:\n",
    "        composition_n.append(number)\n",
    "    #    print('{} : \\t합성수!!'.format(number))\n",
    "        \n",
    "print('{} 까지의 소수들 : {} '.format(input_number, prime_n))\n",
    "print('{} 까지의 합성수들 : {}'.format(input_number, composition_n))\n",
    "    "
   ]
  },
  {
   "cell_type": "markdown",
   "metadata": {},
   "source": [
    "# 소인수분해\n",
    "\n",
    "- 소수가 나누어서 더이상 나누어떨어지지 않을때까지 나누어서 표현하는 것"
   ]
  },
  {
   "cell_type": "code",
   "execution_count": 7,
   "metadata": {},
   "outputs": [
    {
     "name": "stdout",
     "output_type": "stream",
     "text": [
      "소인수 : 2\n",
      "소인수 : 2\n",
      "소인수 : 3\n"
     ]
    }
   ],
   "source": [
    "input_n = int(input(\"1보다 큰 정수 입력 : \"))\n",
    "n = 2\n",
    "while n <= input_n:\n",
    "    if input_n % n == 0:\n",
    "        print(\"소인수 : {}\".format(n))\n",
    "        input_n /= n\n",
    "    else:\n",
    "        n += 1"
   ]
  },
  {
   "cell_type": "code",
   "execution_count": 6,
   "metadata": {},
   "outputs": [
    {
     "name": "stdout",
     "output_type": "stream",
     "text": [
      "[2, 2, 3]\n"
     ]
    }
   ],
   "source": [
    "#소인수분해\n",
    "def factorization(x):\n",
    "    d = 2 \n",
    "    factori = []\n",
    "    while d <= x: \n",
    "        if x % d == 0:\n",
    "            factori.append(d)\n",
    "            #print(factori) \n",
    "            x = x / d \n",
    "        else: \n",
    "            d = d + 1 \n",
    "    return print(factori) \n",
    "            \n",
    "            \n",
    "factorization(12)\n",
    "\n"
   ]
  },
  {
   "cell_type": "code",
   "execution_count": 10,
   "metadata": {},
   "outputs": [
    {
     "name": "stdout",
     "output_type": "stream",
     "text": [
      "소인수 : 2\n",
      "소인수 : 2\n",
      "소인수 : 2\n",
      "소인수 : 3\n",
      "소인수 : 3\n",
      "필요한 숫자는 : [2]\n"
     ]
    }
   ],
   "source": [
    "# 72에 x를 곱하면 y의 제곱이 된다고 할 때 x에 해당되는 가장 작은 정수를 구하자\n",
    "\n",
    "input_n = int(input(\"1보다 큰 정수 입력 : \"))\n",
    "n = 2\n",
    "facto = []\n",
    "while n <= input_n:\n",
    "    if input_n % n == 0:\n",
    "        print(\"소인수 : {}\".format(n))\n",
    "        if facto.count(n) == 0:\n",
    "            facto.append(n)\n",
    "        elif facto.count(n) == 1:\n",
    "            facto.remove(n)\n",
    "            \n",
    "        input_n /= n\n",
    "    else:\n",
    "        n += 1\n",
    "#72의 경우 2가 세개고 3이 2개이므로 2를 하나 추가하면 144가 되어 12제곱이 됨\n",
    "print(\"필요한 숫자는 : {}\".format(facto))"
   ]
  },
  {
   "cell_type": "markdown",
   "metadata": {},
   "source": [
    "# 공약수\n",
    "- 공통된 약수"
   ]
  },
  {
   "cell_type": "code",
   "execution_count": 11,
   "metadata": {},
   "outputs": [
    {
     "name": "stdout",
     "output_type": "stream",
     "text": [
      "공약수 : 1\n",
      "공약수 : 2\n",
      "공약수 : 3\n",
      "공약수 : 4\n",
      "공약수 : 6\n",
      "공약수 : 12\n",
      "최대공약수 : 12\n"
     ]
    }
   ],
   "source": [
    "#최대 공약수 구현하기\n",
    "num01 = int(input(\"1보다 큰 정수를 입력: \"))\n",
    "num02 = int(input(\"1보다 큰 정수를 입력: \"))\n",
    "\n",
    "for i in range(1, (num01 + 1)):\n",
    "    if num01 % i == 0 and  num01 % i == 0:\n",
    "        print(\"공약수 : {}\".format(i))\n",
    "        maxnum = i\n",
    "print(\"최대공약수 : {}\".format(maxnum))"
   ]
  },
  {
   "cell_type": "markdown",
   "metadata": {},
   "source": [
    "# 유클리드 호제법\n",
    "- x , y의 최대공약수는 y r(x%y)의 최대 공약수와 같다.\n",
    "\n",
    "예시) x % y = r\n",
    "x = 12, y= 36인 경우 나머지 r은 12\n",
    "나머지가 0일때 까지 나눗셈을 함\n",
    "\n"
   ]
  },
  {
   "cell_type": "code",
   "execution_count": 14,
   "metadata": {},
   "outputs": [
    {
     "data": {
      "text/plain": [
       "0"
      ]
     },
     "execution_count": 14,
     "metadata": {},
     "output_type": "execute_result"
    }
   ],
   "source": [
    "36%12"
   ]
  },
  {
   "cell_type": "code",
   "execution_count": 16,
   "metadata": {},
   "outputs": [
    {
     "name": "stdout",
     "output_type": "stream",
     "text": [
      "12, 36의 최대 공약수 : 12\n",
      "12, 36의 공약수 : 1\n",
      "12, 36의 공약수 : 2\n",
      "12, 36의 공약수 : 3\n",
      "12, 36의 공약수 : 4\n",
      "12, 36의 공약수 : 6\n",
      "12, 36의 공약수 : 12\n"
     ]
    }
   ],
   "source": [
    "# 유클리드 호제법\n",
    "\n",
    "num01 = int(input(\"1보다 큰 정수를 입력: \"))\n",
    "num02 = int(input(\"1보다 큰 정수를 입력: \"))\n",
    "\n",
    "temp01, temp02 = num01, num02 # x, y\n",
    "\n",
    "while temp02 > 0:\n",
    "    temp = temp02\n",
    "    temp02 = temp01 % temp02 # x % y 한 것\n",
    "    temp01 = temp\n",
    "print(\"{0}, {1}의 최대 공약수 : {2}\".format(num01, num02, temp01))\n",
    "\n",
    "for n in range(1, (temp01 + 1)):\n",
    "    if temp01 % n == 0:\n",
    "        print(\"{0}, {1}의 공약수 : {2}\".format(num01, num02, n))"
   ]
  },
  {
   "cell_type": "markdown",
   "metadata": {},
   "source": [
    "# 최소 공배수"
   ]
  },
  {
   "cell_type": "code",
   "execution_count": 17,
   "metadata": {},
   "outputs": [
    {
     "name": "stdout",
     "output_type": "stream",
     "text": [
      "공약수 : 1\n",
      "공약수 : 2\n",
      "공약수 : 3\n",
      "공약수 : 4\n",
      "공약수 : 6\n",
      "공약수 : 12\n",
      "최대공약수 : 12\n",
      "최소공배수 : 36\n"
     ]
    }
   ],
   "source": [
    "# 최소공배수 구현\n",
    "\n",
    "num01 = int(input(\"1보다 큰 정수를 입력: \"))\n",
    "num02 = int(input(\"1보다 큰 정수를 입력: \"))\n",
    "maxnum = 0\n",
    "\n",
    "for i in range(1, (num01 + 1)):\n",
    "    if num01 % i == 0 and  num01 % i == 0:\n",
    "        print(\"공약수 : {}\".format(i))\n",
    "        maxnum = i\n",
    "\n",
    "print(\"최대공약수 : {}\".format(maxnum))\n",
    "\n",
    "minnum = (num01 * num02 ) // maxnum\n",
    "print(\"최소공배수 : {}\".format(minnum))"
   ]
  },
  {
   "cell_type": "markdown",
   "metadata": {},
   "source": [
    "# 진법"
   ]
  },
  {
   "cell_type": "code",
   "execution_count": 25,
   "metadata": {},
   "outputs": [
    {
     "name": "stdout",
     "output_type": "stream",
     "text": [
      "2진수 : 0b1111\n",
      "8진수 : 0o17\n",
      "16진수 : 0xf\n",
      "2진수 : <class 'str'>\n",
      "8진수 : <class 'str'>\n",
      "16진수 : <class 'str'>\n",
      "2진수 : 0b1111\n",
      "8진수 : 0o17\n",
      "16진수 : 0xf\n"
     ]
    }
   ],
   "source": [
    "# 진법 구현\n",
    "dnum = int(input(\"숫자를 입력: \"))\n",
    "print(\"2진수 : {}\".format(bin(dnum)))\n",
    "print(\"8진수 : {}\".format(oct(dnum)))\n",
    "print(\"16진수 : {}\".format(hex(dnum)))\n",
    "\n",
    "print(\"2진수 : {}\".format(type(bin(dnum))))\n",
    "print(\"8진수 : {}\".format(type(oct(dnum))))\n",
    "print(\"16진수 : {}\".format(type(hex(dnum))))\n",
    "\n",
    "print(\"2진수 : {}\".format((format(dnum, '#b'))))\n",
    "print(\"8진수 : {}\".format((format(dnum, '#o'))))\n",
    "print(\"16진수 : {}\".format((format(dnum, '#x'))))\n"
   ]
  },
  {
   "cell_type": "code",
   "execution_count": 27,
   "metadata": {},
   "outputs": [
    {
     "name": "stdout",
     "output_type": "stream",
     "text": [
      "0b1111\\0o17\\0xf\n"
     ]
    }
   ],
   "source": [
    "dnum = int(input(\"숫자를 입력: \"))\n",
    "print('{0:#b}\\{0:#o}\\{0:#x}'.format(dnum))"
   ]
  }
 ],
 "metadata": {
  "interpreter": {
   "hash": "1f8d80d535cfd832283e4e3a1095d2ce45fe6627336684f2622a1965babb2f1c"
  },
  "kernelspec": {
   "display_name": "Python 3.9.10 64-bit (windows store)",
   "language": "python",
   "name": "python3"
  },
  "language_info": {
   "codemirror_mode": {
    "name": "ipython",
    "version": 3
   },
   "file_extension": ".py",
   "mimetype": "text/x-python",
   "name": "python",
   "nbconvert_exporter": "python",
   "pygments_lexer": "ipython3",
   "version": "3.9.7"
  },
  "orig_nbformat": 4
 },
 "nbformat": 4,
 "nbformat_minor": 2
}
